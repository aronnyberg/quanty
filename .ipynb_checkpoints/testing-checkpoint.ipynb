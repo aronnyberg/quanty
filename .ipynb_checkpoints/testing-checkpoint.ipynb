{
 "cells": [
  {
   "cell_type": "code",
   "execution_count": 1,
   "metadata": {},
   "outputs": [],
   "source": [
    "import pandas as pd"
   ]
  },
  {
   "cell_type": "code",
   "execution_count": 54,
   "metadata": {},
   "outputs": [],
   "source": []
  },
  {
   "cell_type": "code",
   "execution_count": 55,
   "metadata": {},
   "outputs": [
    {
     "data": {
      "text/plain": [
       "False"
      ]
     },
     "execution_count": 55,
     "metadata": {},
     "output_type": "execute_result"
    }
   ],
   "source": []
  },
  {
   "cell_type": "code",
   "execution_count": 56,
   "metadata": {},
   "outputs": [
    {
     "ename": "NameError",
     "evalue": "name 'X' is not defined",
     "output_type": "error",
     "traceback": [
      "\u001b[0;31m---------------------------------------------------------------------------\u001b[0m",
      "\u001b[0;31mNameError\u001b[0m                                 Traceback (most recent call last)",
      "\u001b[1;32m/Users/aronnyberg/code/quant/testing.ipynb Cell 9\u001b[0m in \u001b[0;36m1\n\u001b[0;32m----> <a href='vscode-notebook-cell:/Users/aronnyberg/code/quant/testing.ipynb#X23sZmlsZQ%3D%3D?line=0'>1</a>\u001b[0m X[\u001b[39m-\u001b[39m\u001b[39m1\u001b[39m]\n",
      "\u001b[0;31mNameError\u001b[0m: name 'X' is not defined"
     ]
    }
   ],
   "source": []
  },
  {
   "cell_type": "code",
   "execution_count": null,
   "metadata": {},
   "outputs": [
    {
     "data": {
      "text/html": [
       "<div>\n",
       "<style scoped>\n",
       "    .dataframe tbody tr th:only-of-type {\n",
       "        vertical-align: middle;\n",
       "    }\n",
       "\n",
       "    .dataframe tbody tr th {\n",
       "        vertical-align: top;\n",
       "    }\n",
       "\n",
       "    .dataframe thead th {\n",
       "        text-align: right;\n",
       "    }\n",
       "</style>\n",
       "<table border=\"1\" class=\"dataframe\">\n",
       "  <thead>\n",
       "    <tr style=\"text-align: right;\">\n",
       "      <th></th>\n",
       "      <th>capital</th>\n",
       "      <th>strat scalar</th>\n",
       "      <th>HK33_HKD units</th>\n",
       "      <th>HK33_HKD w</th>\n",
       "      <th>FR40_EUR units</th>\n",
       "      <th>FR40_EUR w</th>\n",
       "      <th>JP225_USD units</th>\n",
       "      <th>JP225_USD w</th>\n",
       "      <th>CN50_USD units</th>\n",
       "      <th>CN50_USD w</th>\n",
       "      <th>...</th>\n",
       "      <th>USB30Y_USD w</th>\n",
       "      <th>IN50_USD units</th>\n",
       "      <th>IN50_USD w</th>\n",
       "      <th>nominal</th>\n",
       "      <th>leverage</th>\n",
       "      <th>daily pnl</th>\n",
       "      <th>nominal ret</th>\n",
       "      <th>capital ret</th>\n",
       "      <th>cum ret</th>\n",
       "      <th>drawdown</th>\n",
       "    </tr>\n",
       "    <tr>\n",
       "      <th>date</th>\n",
       "      <th></th>\n",
       "      <th></th>\n",
       "      <th></th>\n",
       "      <th></th>\n",
       "      <th></th>\n",
       "      <th></th>\n",
       "      <th></th>\n",
       "      <th></th>\n",
       "      <th></th>\n",
       "      <th></th>\n",
       "      <th></th>\n",
       "      <th></th>\n",
       "      <th></th>\n",
       "      <th></th>\n",
       "      <th></th>\n",
       "      <th></th>\n",
       "      <th></th>\n",
       "      <th></th>\n",
       "      <th></th>\n",
       "      <th></th>\n",
       "      <th></th>\n",
       "    </tr>\n",
       "  </thead>\n",
       "  <tbody>\n",
       "    <tr>\n",
       "      <th>2023-04-26</th>\n",
       "      <td>10068.267708</td>\n",
       "      <td>2</td>\n",
       "      <td>0</td>\n",
       "      <td>0.0</td>\n",
       "      <td>0.048742</td>\n",
       "      <td>0.081803</td>\n",
       "      <td>0.029526</td>\n",
       "      <td>0.170412</td>\n",
       "      <td>0</td>\n",
       "      <td>0</td>\n",
       "      <td>...</td>\n",
       "      <td>0</td>\n",
       "      <td>0.0</td>\n",
       "      <td>0</td>\n",
       "      <td>4952.300041</td>\n",
       "      <td>0.491872</td>\n",
       "      <td>84.288881</td>\n",
       "      <td>0.013987</td>\n",
       "      <td>0.008442</td>\n",
       "      <td>1.006827</td>\n",
       "      <td>-0.039933</td>\n",
       "    </tr>\n",
       "    <tr>\n",
       "      <th>2023-04-27</th>\n",
       "      <td>10089.862979</td>\n",
       "      <td>2</td>\n",
       "      <td>0</td>\n",
       "      <td>0.0</td>\n",
       "      <td>0.049129</td>\n",
       "      <td>0.081532</td>\n",
       "      <td>0.031308</td>\n",
       "      <td>0.181807</td>\n",
       "      <td>0</td>\n",
       "      <td>0</td>\n",
       "      <td>...</td>\n",
       "      <td>0</td>\n",
       "      <td>0.0</td>\n",
       "      <td>0</td>\n",
       "      <td>4979.374436</td>\n",
       "      <td>0.493503</td>\n",
       "      <td>21.595271</td>\n",
       "      <td>0.004361</td>\n",
       "      <td>0.002145</td>\n",
       "      <td>1.008986</td>\n",
       "      <td>-0.037873</td>\n",
       "    </tr>\n",
       "  </tbody>\n",
       "</table>\n",
       "<p>2 rows × 61 columns</p>\n",
       "</div>"
      ],
      "text/plain": [
       "                 capital  strat scalar  HK33_HKD units  HK33_HKD w  \\\n",
       "date                                                                 \n",
       "2023-04-26  10068.267708             2               0         0.0   \n",
       "2023-04-27  10089.862979             2               0         0.0   \n",
       "\n",
       "            FR40_EUR units  FR40_EUR w  JP225_USD units  JP225_USD w  \\\n",
       "date                                                                   \n",
       "2023-04-26        0.048742    0.081803         0.029526     0.170412   \n",
       "2023-04-27        0.049129    0.081532         0.031308     0.181807   \n",
       "\n",
       "            CN50_USD units  CN50_USD w  ...  USB30Y_USD w  IN50_USD units  \\\n",
       "date                                    ...                                 \n",
       "2023-04-26               0           0  ...             0             0.0   \n",
       "2023-04-27               0           0  ...             0             0.0   \n",
       "\n",
       "            IN50_USD w      nominal  leverage  daily pnl  nominal ret  \\\n",
       "date                                                                    \n",
       "2023-04-26           0  4952.300041  0.491872  84.288881     0.013987   \n",
       "2023-04-27           0  4979.374436  0.493503  21.595271     0.004361   \n",
       "\n",
       "            capital ret   cum ret  drawdown  \n",
       "date                                         \n",
       "2023-04-26     0.008442  1.006827 -0.039933  \n",
       "2023-04-27     0.002145  1.008986 -0.037873  \n",
       "\n",
       "[2 rows x 61 columns]"
      ]
     },
     "execution_count": 9,
     "metadata": {},
     "output_type": "execute_result"
    }
   ],
   "source": []
  },
  {
   "cell_type": "code",
   "execution_count": null,
   "metadata": {},
   "outputs": [],
   "source": []
  }
 ],
 "metadata": {
  "kernelspec": {
   "display_name": "Python 3 (ipykernel)",
   "language": "python",
   "name": "python3"
  },
  "language_info": {
   "codemirror_mode": {
    "name": "ipython",
    "version": 3
   },
   "file_extension": ".py",
   "mimetype": "text/x-python",
   "name": "python",
   "nbconvert_exporter": "python",
   "pygments_lexer": "ipython3",
   "version": "3.9.10"
  }
 },
 "nbformat": 4,
 "nbformat_minor": 2
}
